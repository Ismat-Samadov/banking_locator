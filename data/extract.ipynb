{
 "cells": [
  {
   "cell_type": "code",
   "execution_count": null,
   "id": "98e2f9bb",
   "metadata": {},
   "outputs": [],
   "source": [
    "import requests\n",
    "import csv\n",
    "\n",
    "# List of APIs and corresponding function names\n",
    "api_urls = [\n",
    "    \"https://www.kapitalbank.az/locations/region?is_nfc=false&weekend=false&type=payment_terminal\",\n",
    "    \"https://www.kapitalbank.az/locations/region?is_nfc=false&weekend=false&type=cash_in\",\n",
    "    \"https://www.kapitalbank.az/locations/region?is_nfc=false&weekend=false&type=atm\",\n",
    "    \"https://www.kapitalbank.az/locations/region?is_nfc=false&weekend=false&type=branch\",\n",
    "    \"https://www.kapitalbank.az/locations/region?is_nfc=false&weekend=false&type=reqemsal-merkez\"\n",
    "]\n",
    "\n",
    "# Prepare data for CSV\n",
    "data = []\n",
    "\n",
    "for url in api_urls:\n",
    "    response = requests.get(url)\n",
    "    response_data = response.json()\n",
    "    \n",
    "    # Extract function name from URL\n",
    "    function_name = url.split('=')[-1]\n",
    "    \n",
    "    for item in response_data:\n",
    "        item['function'] = function_name\n",
    "        data.append(item)\n",
    "\n",
    "# Define CSV file path\n",
    "csv_file_path = 'combined_terminal_locations.csv'\n",
    "\n",
    "# Define CSV headers based on the keys from the JSON data\n",
    "headers = list(data[0].keys())\n",
    "\n",
    "# Save data to CSV\n",
    "with open(csv_file_path, 'w', newline='', encoding='utf-8') as csvfile:\n",
    "    writer = csv.DictWriter(csvfile, fieldnames=headers)\n",
    "    writer.writeheader()\n",
    "    writer.writerows(data)\n",
    "\n",
    "print(f\"Data saved to {csv_file_path}\")"
   ]
  },
  {
   "cell_type": "code",
   "execution_count": null,
   "id": "eea254b1",
   "metadata": {},
   "outputs": [],
   "source": []
  },
  {
   "cell_type": "code",
   "execution_count": null,
   "id": "2911adb7",
   "metadata": {},
   "outputs": [],
   "source": []
  },
  {
   "cell_type": "code",
   "execution_count": null,
   "id": "b4390a43",
   "metadata": {},
   "outputs": [],
   "source": []
  },
  {
   "cell_type": "code",
   "execution_count": null,
   "id": "7345739c",
   "metadata": {},
   "outputs": [],
   "source": []
  },
  {
   "cell_type": "code",
   "execution_count": null,
   "id": "8155b0f5",
   "metadata": {},
   "outputs": [],
   "source": []
  },
  {
   "cell_type": "code",
   "execution_count": null,
   "id": "a34f0a15",
   "metadata": {},
   "outputs": [],
   "source": []
  },
  {
   "cell_type": "code",
   "execution_count": null,
   "id": "65a6a80d",
   "metadata": {},
   "outputs": [],
   "source": []
  }
 ],
 "metadata": {
  "kernelspec": {
   "display_name": "venv",
   "language": "python",
   "name": "python3"
  },
  "language_info": {
   "codemirror_mode": {
    "name": "ipython",
    "version": 3
   },
   "file_extension": ".py",
   "mimetype": "text/x-python",
   "name": "python",
   "nbconvert_exporter": "python",
   "pygments_lexer": "ipython3",
   "version": "3.12.0"
  }
 },
 "nbformat": 4,
 "nbformat_minor": 5
}
